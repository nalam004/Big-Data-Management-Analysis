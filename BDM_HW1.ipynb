{
  "nbformat": 4,
  "nbformat_minor": 0,
  "metadata": {
    "colab": {
      "name": "BDM_HW1",
      "provenance": [],
      "collapsed_sections": []
    },
    "kernelspec": {
      "name": "python3",
      "display_name": "Python 3"
    }
  },
  "cells": [
    {
      "cell_type": "markdown",
      "metadata": {
        "id": "lvnKTXzOO5p_"
      },
      "source": [
        "# Homework 1 - Streaming and Higher Order Functions (15 pts)\n",
        "\n",
        "Please turn in your note book naming as *BDM\\_HW1\\_LastName.ipynb*."
      ]
    },
    {
      "cell_type": "markdown",
      "metadata": {
        "id": "aCy9ZXhXL9Lo"
      },
      "source": [
        "\n",
        "## Task 1 (2 points)\n",
        "\n",
        "Please complete the **lambda f1** definition below by filling in the _________ part. **f1** is expected to take a single string argument and returns whether the string can be converted to a natural number or zero. If it's possible, returns **'Number'**, otherwise returns **'Not a number'**. For example *'0123'* is a valid number 'Number', whereas *'0xff'* is not."
      ]
    },
    {
      "cell_type": "code",
      "metadata": {
        "id": "_ZGEp6bsL9Lp",
        "outputId": "53605d00-979a-42ca-a0a0-f15915bba8ae",
        "colab": {
          "base_uri": "https://localhost:8080/"
        }
      },
      "source": [
        "f1 = lambda x: \"Number\" if x.isdigit() else \"Not a Number\"\n",
        "print(f1('1A'))\n",
        "print(f1('12'))\n",
        "print(f1('b1'))"
      ],
      "execution_count": 9,
      "outputs": [
        {
          "output_type": "stream",
          "name": "stdout",
          "text": [
            "Not a Number\n",
            "Number\n",
            "Not a Number\n"
          ]
        }
      ]
    },
    {
      "cell_type": "markdown",
      "metadata": {
        "id": "tk3arVyKL9Lq"
      },
      "source": [
        "\n",
        "## Task 2 (2 points)\n",
        "\n",
        "Please complete the **lambda f2** definition below by filling in the _________ part. **f2** takes a single iterable (e.g. a list or a string), and returns the number of unique elements. Please see the sample output below."
      ]
    },
    {
      "cell_type": "code",
      "metadata": {
        "id": "OH6LEFSzL9Lr",
        "outputId": "eea85c5c-4d9c-4acd-d1a1-3d2f3e4473d5",
        "colab": {
          "base_uri": "https://localhost:8080/"
        }
      },
      "source": [
        "f2 = lambda x: len(set(x))\n",
        "print(f2([1,2,3,4,1,5,2]))\n",
        "print(f2('hello world'))"
      ],
      "execution_count": 10,
      "outputs": [
        {
          "output_type": "stream",
          "name": "stdout",
          "text": [
            "5\n",
            "8\n"
          ]
        }
      ]
    },
    {
      "cell_type": "markdown",
      "metadata": {
        "id": "MGjOHTNOL9Lr"
      },
      "source": [
        "\n",
        "## Task 3 (2 points)\n",
        "\n",
        "Please complete the **lambda f3** definition below by filling in the _________ part. **f3** takes two strings *x* and *y*, and return all the words in *x* that do not appear in *y*. Please note that the word comparison iscase insensitive. Samples area also provided below."
      ]
    },
    {
      "cell_type": "code",
      "metadata": {
        "id": "OgKRE6WvL9Ls",
        "outputId": "b5508a67-91b9-4306-bed6-f34ded24359e",
        "colab": {
          "base_uri": "https://localhost:8080/"
        }
      },
      "source": [
        "f3 = lambda x, y: list(set(x.lower().split(' ')).difference(set(y.lower().split(' '))))\n",
        "print(f3('big data management and analysis', 'big data computing'))\n",
        "print(f3('this is a phrase', 'this is another phrase'))"
      ],
      "execution_count": 12,
      "outputs": [
        {
          "output_type": "stream",
          "name": "stdout",
          "text": [
            "['and', 'management', 'analysis']\n",
            "['a']\n"
          ]
        }
      ]
    },
    {
      "cell_type": "markdown",
      "metadata": {
        "id": "4D1Sn_NiL9Ls"
      },
      "source": [
        "\n",
        "## Task 4 (9 points)\n",
        "\n",
        "We are greatly inspired by the [Consumer Complaints](https://github.com/InsightDataScience/consumer_complaints) challenge from [InsightDataScience](https://github.com/InsightDataScience/). In fact, we are going to tackle the same challenge but streaming. Please read through the challenge at the following link (the most important sections are “Input dataset” and “Expected output”):\n",
        "\n",
        "<https://github.com/InsightDataScience/consumer_complaints>\n",
        "\n",
        "Our problem is different than the one above in that the INPUT is also <ins>sorted by product (alphabetically) and year (ascending)</ins>, similar to the requested output format. You are asked to complete the generator below to produce the expected output. You should not edit any other code.\n",
        "\n",
        "### INPUT\n",
        "Your code will be evaluated against the original data set (in CSV format) downloaded from the below link (of course with a sorted version). For your convenience, a smaller version of the file is provided below for testing purposes.\n",
        "\n",
        "https://www.consumerfinance.gov/data-research/consumer-complaints/#download-the-data\n",
        "\n"
      ]
    },
    {
      "cell_type": "code",
      "metadata": {
        "id": "Xf4WQNpEi021",
        "colab": {
          "base_uri": "https://localhost:8080/"
        },
        "outputId": "8c943c3c-025c-4cad-c66e-a868de1cb88a"
      },
      "source": [
        "!gdown --id 1-IeoZDwT5wQzBUpsaS5B6vTaP-2ZBkam -O complaints.csv\n",
        "!head -n 1 complaints.csv"
      ],
      "execution_count": null,
      "outputs": [
        {
          "output_type": "stream",
          "text": [
            "Date received,Product,Sub-product,Issue,Sub-issue,Consumer complaint narrative,Company public response,Company,State,ZIP code,Tags,Consumer consent provided?,Submitted via,Date sent to company,Company response to consumer,Timely response?,Consumer disputed?,Complaint ID\r\n"
          ],
          "name": "stdout"
        }
      ]
    },
    {
      "cell_type": "code",
      "metadata": {
        "id": "28mcMPLZUB6A"
      },
      "source": [
        "def task4(reader):\n",
        "  # YOU CAN ONLY EDIT CODE BELOW THIS LINE\n",
        "  # Note: below is just an example, and not correct\n",
        "  date = []\n",
        "  product = []\n",
        "  case = []\n",
        "  \n",
        "  for row in reader: # this line should stay the same\n",
        "    product.append(row['Product'].lower())\n",
        "    date.append(row['Date received'].split('-')[0])\n",
        "    case.append([row['Date received'].split('-')[0], row['Product'].lower(), row['Company'].lower()])\n",
        "\n",
        "  x = {}\n",
        "  for key in date:\n",
        "    x[key] = x.get(key, 0) + 1\n",
        "\n",
        "  y = {}\n",
        "  for key in product:\n",
        "    y[key] = y.get(key, 0) + 1\n",
        " \n",
        "  #yield[x, '\\n', y]\n",
        "\n",
        "  for key_y in y.keys():\n",
        "    for key_x in x.keys():\n",
        "  \n",
        "        # set empty for each year\n",
        "        complaints = 0   \n",
        "        company = []  \n",
        "\n",
        "        # total number of complaints received for that product and year \n",
        "        # append companies that received complaints for that product and year\n",
        "        for e in case:\n",
        "            if e[0] == key_x and e[1] == key_y:\n",
        "                complaints = complaints + 1\n",
        "                company.append(e[2])\n",
        "                \n",
        "        if complaints !=0:   \n",
        "            # length of dic_co = total number of companies receiving a complaint for that product and year\n",
        "            dic_co = {}\n",
        "            for key in company:\n",
        "                dic_co[key] = dic_co.get(key, 0) + 1\n",
        "            \n",
        "            #yield[dic_co]\n",
        "            \n",
        "            # highest percentage of total complaints filed against one company for that product and year.\n",
        "            percent = round(max(dic_co.values())/complaints*100)\n",
        "\n",
        "            # if there is a comma in product name, then put in quotes\n",
        "            if ',' in key_y:\n",
        "              key_y = ('\"%s\"' % key_y )\n",
        "\n",
        "            yield(key_y, key_x, complaints, len(dic_co), percent)"
      ],
      "execution_count": 13,
      "outputs": []
    },
    {
      "cell_type": "code",
      "metadata": {
        "colab": {
          "base_uri": "https://localhost:8080/"
        },
        "id": "vdF8fvHjTScK",
        "outputId": "572c392e-6db3-49ef-bcb0-47d88c996710"
      },
      "source": [
        "# DO NOT EDIT THIS CELL, YOU CAN RUN TO QUICKLY CHECK YOUR RESULTS\n",
        "\n",
        "import csv\n",
        "\n",
        "with open('complaints.csv', 'r') as fi, open('output.csv', 'w') as fo:\n",
        "  reader = csv.DictReader(fi)\n",
        "  writer = csv.writer(fo)\n",
        "  for row in task4(reader):\n",
        "    writer.writerow(row)\n",
        "\n",
        "!head output.csv"
      ],
      "execution_count": 14,
      "outputs": [
        {
          "output_type": "stream",
          "name": "stdout",
          "text": [
            "bank account or service,2015,1,1,100\r\n",
            "bank account or service,2016,2,2,50\r\n",
            "checking or savings account,2017,1,1,100\r\n",
            "checking or savings account,2018,20,10,25\r\n",
            "checking or savings account,2019,461,72,13\r\n",
            "checking or savings account,2020,3,3,33\r\n",
            "consumer loan,2015,1,1,100\r\n",
            "consumer loan,2016,1,1,100\r\n",
            "consumer loan,2017,1,1,100\r\n",
            "credit card,2016,4,4,25\r\n"
          ]
        }
      ]
    },
    {
      "cell_type": "code",
      "metadata": {
        "id": "4w5uhaHIWKv-"
      },
      "source": [
        ""
      ],
      "execution_count": null,
      "outputs": []
    }
  ]
}