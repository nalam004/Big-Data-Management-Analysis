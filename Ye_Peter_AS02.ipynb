{
 "cells": [
  {
   "cell_type": "code",
   "execution_count": 112,
   "metadata": {},
   "outputs": [],
   "source": [
    "# Name: Peter Ye \n",
    "# CSC30100 - Assignment 2\n",
    "import pandas as pd\n",
    "import math\n",
    "import time"
   ]
  },
  {
   "cell_type": "code",
   "execution_count": 82,
   "metadata": {},
   "outputs": [],
   "source": [
    "# Naive Summation for math.sqrt(13.0)\n",
    "# i = index of summation, N = upper limit, x = addend\n",
    "def naive(i, N, x):\n",
    "    s = 0\n",
    "    for j in range (i, int(N+1)):\n",
    "        s += x\n",
    "    return s"
   ]
  },
  {
   "cell_type": "code",
   "execution_count": 83,
   "metadata": {},
   "outputs": [],
   "source": [
    "#Initializing variables\n",
    "\n",
    "addend = math.sqrt(13.0)\n",
    "initial = 1\n",
    "\n",
    "N1 = math.pow(10, 4)\n",
    "N2 = math.pow(10, 5)\n",
    "N3 = math.pow(10, 6)\n",
    "N4 = math.pow(10, 7)\n",
    "N5 = math.pow(10, 8)"
   ]
  },
  {
   "cell_type": "code",
   "execution_count": 84,
   "metadata": {},
   "outputs": [
    {
     "name": "stdout",
     "output_type": "stream",
     "text": [
      "Naive Result for 10^4= 36055.51275464152\n",
      "Time: 0.001999378204345703\n"
     ]
    }
   ],
   "source": [
    "# Result for 10^4\n",
    "start_time = time.time()\n",
    "print(\"Naive Result for 10^4=\", naive(initial, N1, addend))\n",
    "end_time = time.time()\n",
    "elapsed_time = end_time - start_time\n",
    "print(\"Time:\",elapsed_time)\n",
    "n_time1 = elapsed_time"
   ]
  },
  {
   "cell_type": "code",
   "execution_count": 85,
   "metadata": {},
   "outputs": [
    {
     "name": "stdout",
     "output_type": "stream",
     "text": [
      "Naive Result for 10^5= 360555.12754659855\n",
      "Time: 0.013962268829345703\n"
     ]
    }
   ],
   "source": [
    "# Result for 10^5\n",
    "start_time = time.time()\n",
    "print(\"Naive Result for 10^5=\", naive(initial, N2, addend))\n",
    "end_time = time.time()\n",
    "elapsed_time = end_time - start_time\n",
    "print(\"Time:\",elapsed_time)\n",
    "n_time2 = elapsed_time"
   ]
  },
  {
   "cell_type": "code",
   "execution_count": 86,
   "metadata": {},
   "outputs": [
    {
     "name": "stdout",
     "output_type": "stream",
     "text": [
      "Naive Result for 10^6= 3605551.2754314356\n",
      "Time: 0.09924912452697754\n"
     ]
    }
   ],
   "source": [
    "# Result for 10^6\n",
    "start_time = time.time()\n",
    "print(\"Naive Result for 10^6=\", naive(initial, N3, addend))\n",
    "end_time = time.time()\n",
    "elapsed_time = end_time - start_time\n",
    "print(\"Time:\",elapsed_time)\n",
    "n_time3 = elapsed_time"
   ]
  },
  {
   "cell_type": "code",
   "execution_count": 87,
   "metadata": {},
   "outputs": [
    {
     "name": "stdout",
     "output_type": "stream",
     "text": [
      "Naive Result for 10^7= 36055512.75881565\n",
      "Time: 0.8795120716094971\n"
     ]
    }
   ],
   "source": [
    "# Result for 10^7\n",
    "start_time = time.time()\n",
    "print(\"Naive Result for 10^7=\", naive(initial, N4, addend))\n",
    "end_time = time.time()\n",
    "elapsed_time = end_time - start_time\n",
    "print(\"Time:\",elapsed_time)\n",
    "n_time4 = elapsed_time"
   ]
  },
  {
   "cell_type": "code",
   "execution_count": 88,
   "metadata": {},
   "outputs": [
    {
     "name": "stdout",
     "output_type": "stream",
     "text": [
      "Naive Result for 10^8= 360555128.05700934\n",
      "Time: 8.749696254730225\n"
     ]
    }
   ],
   "source": [
    "# Result for 10^8\n",
    "start_time = time.time()\n",
    "print(\"Naive Result for 10^8=\", naive(initial, N5, addend))\n",
    "end_time = time.time()\n",
    "elapsed_time = end_time - start_time\n",
    "print(\"Time:\",elapsed_time)\n",
    "n_time5 = elapsed_time"
   ]
  },
  {
   "cell_type": "code",
   "execution_count": 144,
   "metadata": {},
   "outputs": [],
   "source": [
    "#Naive Sums \n",
    "n_sum1= naive(initial, N1, addend)\n",
    "n_sum2= naive(initial, N2, addend)\n",
    "n_sum3= naive(initial, N3, addend)\n",
    "n_sum4= naive(initial, N4, addend)\n",
    "n_sum5= naive(initial, N5, addend)"
   ]
  },
  {
   "cell_type": "code",
   "execution_count": 90,
   "metadata": {},
   "outputs": [],
   "source": [
    "#Compensated Summation for math.sqrt(13.0)\n",
    "# i = index of summation, N = upper limit, x = addend\n",
    "def compensated(i, N, x):\n",
    "    s = 0\n",
    "    e = 0\n",
    "    \n",
    "    for j in range (i, int(N+1)):\n",
    "        temp = s\n",
    "        y = x + e\n",
    "        s = temp + y\n",
    "        e = (temp - s) + y\n",
    "    return s+e"
   ]
  },
  {
   "cell_type": "code",
   "execution_count": 91,
   "metadata": {},
   "outputs": [
    {
     "name": "stdout",
     "output_type": "stream",
     "text": [
      "Compensated Result for 10^4= 36055.512754639894\n",
      "Time: 0.0030202865600585938\n"
     ]
    }
   ],
   "source": [
    "# Result for 10^4\n",
    "start_time = time.time()\n",
    "print(\"Compensated Result for 10^4=\", compensated(initial, N1, addend))\n",
    "end_time = time.time()\n",
    "elapsed_time = end_time - start_time\n",
    "print(\"Time:\",elapsed_time)\n",
    "c_time1 = elapsed_time"
   ]
  },
  {
   "cell_type": "code",
   "execution_count": 92,
   "metadata": {},
   "outputs": [
    {
     "name": "stdout",
     "output_type": "stream",
     "text": [
      "Compensated Result for 10^5= 360555.1275463989\n",
      "Time: 0.03490710258483887\n"
     ]
    }
   ],
   "source": [
    "# Result for 10^5\n",
    "start_time = time.time()\n",
    "print(\"Compensated Result for 10^5=\", compensated(initial, N2, addend))\n",
    "end_time = time.time()\n",
    "elapsed_time = end_time - start_time\n",
    "print(\"Time:\",elapsed_time)\n",
    "c_time2 = elapsed_time"
   ]
  },
  {
   "cell_type": "code",
   "execution_count": 93,
   "metadata": {},
   "outputs": [
    {
     "name": "stdout",
     "output_type": "stream",
     "text": [
      "Compensated Result for 10^6= 3605551.275463989\n",
      "Time: 0.19484257698059082\n"
     ]
    }
   ],
   "source": [
    "# Result for 10^6\n",
    "start_time = time.time()\n",
    "print(\"Compensated Result for 10^6=\", compensated(initial, N3, addend))\n",
    "end_time = time.time()\n",
    "elapsed_time = end_time - start_time\n",
    "print(\"Time:\",elapsed_time)\n",
    "c_time3 = elapsed_time"
   ]
  },
  {
   "cell_type": "code",
   "execution_count": 94,
   "metadata": {},
   "outputs": [
    {
     "name": "stdout",
     "output_type": "stream",
     "text": [
      "Compensated Result for 10^7= 36055512.754639894\n",
      "Time: 2.024662494659424\n"
     ]
    }
   ],
   "source": [
    "# Result for 10^7\n",
    "start_time = time.time()\n",
    "print(\"Compensated Result for 10^7=\", compensated(initial, N4, addend))\n",
    "end_time = time.time()\n",
    "elapsed_time = end_time - start_time\n",
    "print(\"Time:\",elapsed_time)\n",
    "c_time4 = elapsed_time"
   ]
  },
  {
   "cell_type": "code",
   "execution_count": 95,
   "metadata": {},
   "outputs": [
    {
     "name": "stdout",
     "output_type": "stream",
     "text": [
      "Compensated Result for 10^8= 360555127.54639894\n",
      "Time: 23.039690494537354\n"
     ]
    }
   ],
   "source": [
    "# Result for 10^8\n",
    "start_time = time.time()\n",
    "print(\"Compensated Result for 10^8=\", compensated(initial, N5, addend))\n",
    "end_time = time.time()\n",
    "elapsed_time = end_time - start_time\n",
    "print(\"Time:\",elapsed_time)\n",
    "c_time5 = elapsed_time"
   ]
  },
  {
   "cell_type": "code",
   "execution_count": 96,
   "metadata": {},
   "outputs": [],
   "source": [
    "#Compensated Sums \n",
    "c_sum1= compensated(initial, N1, addend)\n",
    "c_sum2= compensated(initial, N2, addend)\n",
    "c_sum3= compensated(initial, N3, addend)\n",
    "c_sum4= compensated(initial, N4, addend)\n",
    "c_sum5= compensated(initial, N5, addend)"
   ]
  },
  {
   "cell_type": "code",
   "execution_count": 105,
   "metadata": {},
   "outputs": [],
   "source": [
    "#Absolute Error \n",
    "def abs_error(approx_sum, exact_sum):\n",
    "    return (abs(approx_sum - exact_sum))\n",
    "\n",
    "#Relative Error\n",
    "def rel_error(absolute_error, exact_sum):\n",
    "    return (absolute_error / exact_sum)\n"
   ]
  },
  {
   "cell_type": "code",
   "execution_count": 107,
   "metadata": {},
   "outputs": [
    {
     "name": "stdout",
     "output_type": "stream",
     "text": [
      "Exact Value 10^4= 36055.512754639894\n",
      "Absolute Error (Naive) 10^4= 1.622538547962904e-09\n",
      "Relative Error (Naive) 10^4= 4.5001122546901057e-14\n",
      "Absolute Error (Compensated) 10^4= 0.0\n",
      "Relative Error (Compensated) 10^4= 0.0\n"
     ]
    }
   ],
   "source": [
    "#Exact Value 10^4\n",
    "e_1 = (N1 * (math.sqrt(13.0)))\n",
    "print(\"Exact Value 10^4=\",e_1)\n",
    "\n",
    "#Absolute Error (Naive) - 10^4\n",
    "n_abs1 = abs_error(n_sum1, e_1)\n",
    "print(\"Absolute Error (Naive) 10^4=\",n_abs1)\n",
    "\n",
    "#Relative Error (Naive) - 10^4\n",
    "n_absR1 = rel_error(n_abs1, e_1)\n",
    "print(\"Relative Error (Naive) 10^4=\", n_absR1)\n",
    "\n",
    "#Absolute Error (Compensated) - 10^4\n",
    "c_abs1 = abs_error(c_sum1, e_1)\n",
    "print(\"Absolute Error (Compensated) 10^4=\",c_abs1)\n",
    "\n",
    "#Relative Error (Compensated) - 10^4\n",
    "c_absR1 = rel_error(c_abs1, e_1)\n",
    "print(\"Relative Error (Compensated) 10^4=\", c_absR1)\n"
   ]
  },
  {
   "cell_type": "code",
   "execution_count": 108,
   "metadata": {},
   "outputs": [
    {
     "name": "stdout",
     "output_type": "stream",
     "text": [
      "Exact Value 10^5= 360555.1275463989\n",
      "Absolute Error (Naive) 10^5= 1.996522769331932e-07\n",
      "Relative Error (Naive) 10^5= 5.537357859582804e-13\n",
      "Absolute Error (Compensated) 10^5= 0.0\n",
      "Relative Error (Compensated) 10^5= 0.0\n"
     ]
    }
   ],
   "source": [
    "#Exact Value 10^5\n",
    "e_2 = (N2 * (math.sqrt(13.0)))\n",
    "print(\"Exact Value 10^5=\",e_2)\n",
    "\n",
    "#Absolute Error (Naive) - 10^5\n",
    "n_abs2 = abs_error(n_sum2, e_2)\n",
    "print(\"Absolute Error (Naive) 10^5=\",n_abs2)\n",
    "\n",
    "#Relative Error (Naive) - 10^5\n",
    "n_absR2 = rel_error(n_abs2, e_2)\n",
    "print(\"Relative Error (Naive) 10^5=\", n_absR2)\n",
    "\n",
    "#Absolute Error (Compensated) - 10^5\n",
    "c_abs2= abs_error(c_sum2, e_2)\n",
    "print(\"Absolute Error (Compensated) 10^5=\",c_abs2)\n",
    "\n",
    "#Relative Error (Compensated) - 10^5\n",
    "c_absR2 = rel_error(c_abs2, e_2)\n",
    "print(\"Relative Error (Compensated) 10^5=\", c_absR2)"
   ]
  },
  {
   "cell_type": "code",
   "execution_count": 109,
   "metadata": {},
   "outputs": [
    {
     "name": "stdout",
     "output_type": "stream",
     "text": [
      "Exact Value 10^6= 3605551.275463989\n",
      "Absolute Error (Naive) 10^6= 3.2553449273109436e-05\n",
      "Relative Error (Naive) 10^6= 9.028702349800925e-12\n",
      "Absolute Error (Compensated) 10^6= 0.0\n",
      "Relative Error (Compensated) 10^6= 0.0\n"
     ]
    }
   ],
   "source": [
    "#Exact Value 10^6\n",
    "e_3 = (N3 * (math.sqrt(13.0)))\n",
    "print(\"Exact Value 10^6=\",e_3)\n",
    "\n",
    "#Absolute Error (Naive) - 10^6\n",
    "n_abs3 = abs_error(n_sum3, e_3)\n",
    "print(\"Absolute Error (Naive) 10^6=\",n_abs3)\n",
    "\n",
    "#Relative Error (Naive) - 10^6\n",
    "n_absR3 = rel_error(n_abs3, e_3)\n",
    "print(\"Relative Error (Naive) 10^6=\", n_absR3)\n",
    "\n",
    "#Absolute Error (Compensated) - 10^6\n",
    "c_abs3= abs_error(c_sum3, e_3)\n",
    "print(\"Absolute Error (Compensated) 10^6=\",c_abs3)\n",
    "\n",
    "#Relative Error (Compensated) - 10^6\n",
    "c_absR3 = rel_error(c_abs3, e_3)\n",
    "print(\"Relative Error (Compensated) 10^6=\", c_abs3)"
   ]
  },
  {
   "cell_type": "code",
   "execution_count": 110,
   "metadata": {},
   "outputs": [
    {
     "name": "stdout",
     "output_type": "stream",
     "text": [
      "Exact Value 10^7= 36055512.754639894\n",
      "Absolute Error (Naive) 10^7= 0.004175759851932526\n",
      "Relative Error (Naive) 10^7= 1.1581474046282028e-10\n",
      "Absolute Error (Compensated) 10^7= 0.0\n",
      "Relative Error (Compensated) 10^7= 0.0\n"
     ]
    }
   ],
   "source": [
    "#Exact Value 10^7\n",
    "e_4 = (N4 * (math.sqrt(13.0)))\n",
    "print(\"Exact Value 10^7=\",e_4)\n",
    "\n",
    "#Absolute Error (Naive) - 10^7\n",
    "n_abs4 = abs_error(n_sum4, e_4)\n",
    "print(\"Absolute Error (Naive) 10^7=\",n_abs4)\n",
    "\n",
    "#Relative Error (Naive) - 10^7\n",
    "n_absR4 = rel_error(n_abs4, e_4)\n",
    "print(\"Relative Error (Naive) 10^7=\", n_absR4)\n",
    "\n",
    "#Absolute Error (Compensated) - 10^7\n",
    "c_abs4= abs_error(c_sum4, e_4)\n",
    "print(\"Absolute Error (Compensated) 10^7=\",c_abs4)\n",
    "\n",
    "#Relative Error (Compensated) - 10^7\n",
    "c_absR4 = rel_error(c_abs4, e_4)\n",
    "print(\"Relative Error (Compensated) 10^7=\", c_abs4)"
   ]
  },
  {
   "cell_type": "code",
   "execution_count": 111,
   "metadata": {},
   "outputs": [
    {
     "name": "stdout",
     "output_type": "stream",
     "text": [
      "Exact Value 10^8= 360555127.54639894\n",
      "Absolute Error (Naive) 10^8= 0.5106104016304016\n",
      "Relative Error (Naive) 10^8= 1.416178449895134e-09\n",
      "Absolute Error (Compensated) 10^8= 0.0\n",
      "Relative Error (Compensated) 10^8= 0.0\n"
     ]
    }
   ],
   "source": [
    "#Exact Value 10^8\n",
    "e_5 = (N5 * (math.sqrt(13.0)))\n",
    "print(\"Exact Value 10^8=\",e_5)\n",
    "\n",
    "#Absolute Error (Naive) - 10^8\n",
    "n_abs5 = abs_error(n_sum5, e_5)\n",
    "print(\"Absolute Error (Naive) 10^8=\",n_abs5)\n",
    "\n",
    "#Relative Error (Naive) - 10^8\n",
    "n_absR5 = rel_error(n_abs5, e_5)\n",
    "print(\"Relative Error (Naive) 10^8=\", n_absR5)\n",
    "\n",
    "#Absolute Error (Compensated) - 10^8\n",
    "c_abs5= abs_error(c_sum5, e_5)\n",
    "print(\"Absolute Error (Compensated) 10^8=\",c_abs5)\n",
    "\n",
    "#Relative Error (Compensated) - 10^8\n",
    "c_absR5 = rel_error(c_abs5, e_5)\n",
    "print(\"Relative Error (Compensated) 10^8=\", c_abs5)"
   ]
  },
  {
   "cell_type": "code",
   "execution_count": 143,
   "metadata": {},
   "outputs": [
    {
     "data": {
      "text/html": [
       "<div>\n",
       "<style scoped>\n",
       "    .dataframe tbody tr th:only-of-type {\n",
       "        vertical-align: middle;\n",
       "    }\n",
       "\n",
       "    .dataframe tbody tr th {\n",
       "        vertical-align: top;\n",
       "    }\n",
       "\n",
       "    .dataframe thead th {\n",
       "        text-align: right;\n",
       "    }\n",
       "</style>\n",
       "<table border=\"1\" class=\"dataframe\">\n",
       "  <thead>\n",
       "    <tr style=\"text-align: right;\">\n",
       "      <th></th>\n",
       "      <th>N = 10^4</th>\n",
       "      <th>N = 10^5</th>\n",
       "      <th>N = 10^6</th>\n",
       "      <th>N = 10^7</th>\n",
       "      <th>N = 10^8</th>\n",
       "    </tr>\n",
       "  </thead>\n",
       "  <tbody>\n",
       "    <tr>\n",
       "      <th>Exact Value</th>\n",
       "      <td>36055.51275463989441</td>\n",
       "      <td>360555.12754639890045</td>\n",
       "      <td>3.60555127546399e+06</td>\n",
       "      <td>3.60555127546399e+07</td>\n",
       "      <td>3.60555127546399e+08</td>\n",
       "    </tr>\n",
       "    <tr>\n",
       "      <th>Naive Sum</th>\n",
       "      <td>36055.51275464151695</td>\n",
       "      <td>360555.12754659855273</td>\n",
       "      <td>3.60555127543144e+06</td>\n",
       "      <td>3.60555127588157e+07</td>\n",
       "      <td>3.60555128057009e+08</td>\n",
       "    </tr>\n",
       "    <tr>\n",
       "      <th>Compensated Sum</th>\n",
       "      <td>36055.51275463989441</td>\n",
       "      <td>360555.12754639890045</td>\n",
       "      <td>3.60555127546399e+06</td>\n",
       "      <td>3.60555127546399e+07</td>\n",
       "      <td>3.60555127546399e+08</td>\n",
       "    </tr>\n",
       "    <tr>\n",
       "      <th>Time (Naive)</th>\n",
       "      <td>0.00199937820435</td>\n",
       "      <td>0.01396226882935</td>\n",
       "      <td>9.92491245269775e-02</td>\n",
       "      <td>8.79512071609497e-01</td>\n",
       "      <td>8.74969625473022e+00</td>\n",
       "    </tr>\n",
       "    <tr>\n",
       "      <th>Time (Compensated)</th>\n",
       "      <td>0.00302028656006</td>\n",
       "      <td>0.03490710258484</td>\n",
       "      <td>1.94842576980591e-01</td>\n",
       "      <td>2.02466249465942e+00</td>\n",
       "      <td>2.30396904945374e+01</td>\n",
       "    </tr>\n",
       "    <tr>\n",
       "      <th>Absolute Error (Naive)</th>\n",
       "      <td>0.00000000162254</td>\n",
       "      <td>0.00000019965228</td>\n",
       "      <td>3.25534492731094e-05</td>\n",
       "      <td>4.17575985193253e-03</td>\n",
       "      <td>5.10610401630402e-01</td>\n",
       "    </tr>\n",
       "    <tr>\n",
       "      <th>Absolute Error (Compensated)</th>\n",
       "      <td>0.00000000000000</td>\n",
       "      <td>0.00000000000000</td>\n",
       "      <td>0.00000000000000e+00</td>\n",
       "      <td>0.00000000000000e+00</td>\n",
       "      <td>0.00000000000000e+00</td>\n",
       "    </tr>\n",
       "    <tr>\n",
       "      <th>Relative Error (Naive)</th>\n",
       "      <td>0.00000000000005</td>\n",
       "      <td>0.00000000000055</td>\n",
       "      <td>9.02870234980092e-12</td>\n",
       "      <td>1.15814740462820e-10</td>\n",
       "      <td>1.41617844989513e-09</td>\n",
       "    </tr>\n",
       "    <tr>\n",
       "      <th>Relative Error (Compensated)</th>\n",
       "      <td>0.00000000000000</td>\n",
       "      <td>0.00000000000000</td>\n",
       "      <td>0.00000000000000e+00</td>\n",
       "      <td>0.00000000000000e+00</td>\n",
       "      <td>0.00000000000000e+00</td>\n",
       "    </tr>\n",
       "  </tbody>\n",
       "</table>\n",
       "</div>"
      ],
      "text/plain": [
       "                                          N = 10^4               N = 10^5              N = 10^6              N = 10^7              N = 10^8\n",
       "Exact Value                   36055.51275463989441  360555.12754639890045  3.60555127546399e+06  3.60555127546399e+07  3.60555127546399e+08\n",
       "Naive Sum                     36055.51275464151695  360555.12754659855273  3.60555127543144e+06  3.60555127588157e+07  3.60555128057009e+08\n",
       "Compensated Sum               36055.51275463989441  360555.12754639890045  3.60555127546399e+06  3.60555127546399e+07  3.60555127546399e+08\n",
       "Time (Naive)                      0.00199937820435       0.01396226882935  9.92491245269775e-02  8.79512071609497e-01  8.74969625473022e+00\n",
       "Time (Compensated)                0.00302028656006       0.03490710258484  1.94842576980591e-01  2.02466249465942e+00  2.30396904945374e+01\n",
       "Absolute Error (Naive)            0.00000000162254       0.00000019965228  3.25534492731094e-05  4.17575985193253e-03  5.10610401630402e-01\n",
       "Absolute Error (Compensated)      0.00000000000000       0.00000000000000  0.00000000000000e+00  0.00000000000000e+00  0.00000000000000e+00\n",
       "Relative Error (Naive)            0.00000000000005       0.00000000000055  9.02870234980092e-12  1.15814740462820e-10  1.41617844989513e-09\n",
       "Relative Error (Compensated)      0.00000000000000       0.00000000000000  0.00000000000000e+00  0.00000000000000e+00  0.00000000000000e+00"
      ]
     },
     "execution_count": 143,
     "metadata": {},
     "output_type": "execute_result"
    }
   ],
   "source": [
    "#Table\n",
    "\n",
    "data = {'Exact Value':[e_1,e_2,e_3,e_4,e_5],\n",
    "        'Naive Sum':[n_sum1,n_sum2,n_sum3,n_sum4,n_sum5], \n",
    "        'Compensated Sum':[c_sum1,c_sum2,c_sum3,c_sum4,c_sum5],   \n",
    "        'Time (Naive)':[n_time1,n_time2,n_time3,n_time4,n_time5], \n",
    "        'Time (Compensated)':[c_time1,c_time2,c_time3,c_time4,c_time5], \n",
    "        'Absolute Error (Naive)':[n_abs1,n_abs2,n_abs3,n_abs4,n_abs5],\n",
    "        'Absolute Error (Compensated)':[c_abs1,c_abs2,c_abs3,c_abs4,c_abs5],\n",
    "        'Relative Error (Naive)':[n_absR1,n_absR2,n_absR3,n_absR4,n_absR5],\n",
    "        'Relative Error (Compensated)':[c_absR1,c_absR2,c_absR3,c_absR4,c_absR5]}\n",
    "df = pd.DataFrame(data, index=['N = 10^4','N = 10^5','N = 10^6','N = 10^7', 'N = 10^8'])\n",
    "pd.set_option('precision', 14)\n",
    "df.T"
   ]
  },
  {
   "cell_type": "markdown",
   "metadata": {},
   "source": [
    "##### Discuss your results. Are these errors consistent with the expressions for errors that we discussed in class and that are in the posted classroom presentations? How do the speeds of the two methods compare?\n",
    "<br>\n",
    "<dl>\n",
    "&nbsp;&nbsp;&nbsp;&nbsp;&nbsp;&nbsp;&nbsp;&nbsp;&nbsp;&nbsp; According to the results of this assignment, it is evident that there is a distinct difference between the naive sum values and compensated sum values. As indicated in the data, the difference between the compensated sums and naive sums become more aparent as N increases. This finding is also reflected in the trends for the absolute error (naive) and relative error (naive). As N increases, there is also a discernible increase in errors between the naive sum and exact value. This trend is consistent with the expressions for errors as there are apparent absolute and relative errors for the naive sum. Moreover, the relative and absolute errors for the compensated sum is equal to 0 throughout all N values. This occurence is expected and consistent with the expressions for errors since the compensated sum algorithm removes the error by keeping a separate running compensation and removing it from the final result. Lasty, the runtime for the compensated sum is exceptionally longer than the naive sum. This result is expected because the compensated sum performs additional instructions keep track of the error and removing it from the final summation.\n",
    "</dl>\n"
   ]
  },
  {
   "cell_type": "code",
   "execution_count": null,
   "metadata": {},
   "outputs": [],
   "source": []
  }
 ],
 "metadata": {
  "kernelspec": {
   "display_name": "Python 3",
   "language": "python",
   "name": "python3"
  },
  "language_info": {
   "codemirror_mode": {
    "name": "ipython",
    "version": 3
   },
   "file_extension": ".py",
   "mimetype": "text/x-python",
   "name": "python",
   "nbconvert_exporter": "python",
   "pygments_lexer": "ipython3",
   "version": "3.7.1"
  }
 },
 "nbformat": 4,
 "nbformat_minor": 2
}
