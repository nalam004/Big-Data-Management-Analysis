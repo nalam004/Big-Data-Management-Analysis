{
 "cells": [
  {
   "cell_type": "code",
   "execution_count": 48,
   "metadata": {},
   "outputs": [],
   "source": [
    "import math\n",
    "import time"
   ]
  },
  {
   "cell_type": "code",
   "execution_count": 49,
   "metadata": {},
   "outputs": [],
   "source": [
    "# this is the fuction for naive summation\n",
    "def naive_Sum(power):\n",
    "    sumOfe = 0\n",
    "    N = math.pow(10,power)\n",
    "    for x in range(int(N)):\n",
    "        sumOfe = sumOfe + math.e\n",
    "    return sumOfe    "
   ]
  },
  {
   "cell_type": "code",
   "execution_count": 50,
   "metadata": {},
   "outputs": [
    {
     "name": "stdout",
     "output_type": "stream",
     "text": [
      "Naive summation 10^6: 2718281.828467976\n",
      "Elapsed time: 0.09655308723449707\n"
     ]
    }
   ],
   "source": [
    "start_time = time.time()\n",
    "print(\"Naive summation 10^6:\",naive_Sum(6))\n",
    "end_time = time.time()\n",
    "elapsed_time = end_time - start_time\n",
    "print(\"Elapsed time:\",elapsed_time)"
   ]
  },
  {
   "cell_type": "code",
   "execution_count": 51,
   "metadata": {},
   "outputs": [
    {
     "name": "stdout",
     "output_type": "stream",
     "text": [
      "Naive summation 10^7: 27182818.280961137\n",
      "Elapsed time: 0.7570807933807373\n"
     ]
    }
   ],
   "source": [
    "start_time = time.time()\n",
    "print(\"Naive summation 10^7:\",naive_Sum(7))\n",
    "end_time = time.time()\n",
    "elapsed_time = end_time - start_time\n",
    "print(\"Elapsed time:\",elapsed_time)"
   ]
  },
  {
   "cell_type": "code",
   "execution_count": 52,
   "metadata": {},
   "outputs": [
    {
     "name": "stdout",
     "output_type": "stream",
     "text": [
      "Naive summation 10^8: 271828183.31291556\n",
      "Elapsed time: 7.940151214599609\n"
     ]
    }
   ],
   "source": [
    "start_time = time.time()\n",
    "print(\"Naive summation 10^8:\",naive_Sum(8))\n",
    "end_time = time.time()\n",
    "elapsed_time = end_time - start_time\n",
    "print(\"Elapsed time:\",elapsed_time)"
   ]
  },
  {
   "cell_type": "code",
   "execution_count": 53,
   "metadata": {},
   "outputs": [
    {
     "name": "stdout",
     "output_type": "stream",
     "text": [
      "Naive summation 10^9: 2718281783.988457\n",
      "Elapsed time: 76.80946516990662\n"
     ]
    }
   ],
   "source": [
    "start_time = time.time()\n",
    "print(\"Naive summation 10^9:\",naive_Sum(9))\n",
    "end_time = time.time()\n",
    "elapsed_time = end_time - start_time\n",
    "print(\"Elapsed time:\",elapsed_time)"
   ]
  },
  {
   "cell_type": "code",
   "execution_count": 54,
   "metadata": {},
   "outputs": [],
   "source": [
    "# this is the fuction for compensated summation\n",
    "def compensated_Sum(power):\n",
    "    sumOfe = 0\n",
    "    c = 0\n",
    "    N = math.pow(10,power)\n",
    "    for x in range(int(N)):\n",
    "        y = math.e - c\n",
    "        t = sumOfe + y\n",
    "        c = (t - sumOfe) - y\n",
    "        sumOfe = t\n",
    "    return sumOfe"
   ]
  },
  {
   "cell_type": "code",
   "execution_count": 55,
   "metadata": {},
   "outputs": [
    {
     "name": "stdout",
     "output_type": "stream",
     "text": [
      "Compensated summation for 10^6: 2718281.828459045\n",
      "0.1492140293121338\n"
     ]
    }
   ],
   "source": [
    "start_time = time.time()\n",
    "print(\"Compensated summation for 10^6:\",compensated_Sum(6))\n",
    "end_time = time.time()\n",
    "elapsed_time = end_time - start_time\n",
    "print(elapsed_time)"
   ]
  },
  {
   "cell_type": "code",
   "execution_count": 56,
   "metadata": {},
   "outputs": [
    {
     "name": "stdout",
     "output_type": "stream",
     "text": [
      "Compensated summation for 10^7: 27182818.28459045\n",
      "1.3411922454833984\n"
     ]
    }
   ],
   "source": [
    "start_time = time.time()\n",
    "print(\"Compensated summation for 10^7:\",compensated_Sum(7))\n",
    "end_time = time.time()\n",
    "elapsed_time = end_time - start_time\n",
    "print(elapsed_time)"
   ]
  },
  {
   "cell_type": "code",
   "execution_count": 57,
   "metadata": {},
   "outputs": [
    {
     "name": "stdout",
     "output_type": "stream",
     "text": [
      "Compensated summation for 10^8: 271828182.8459045\n",
      "12.920761108398438\n"
     ]
    }
   ],
   "source": [
    "start_time = time.time()\n",
    "print(\"Compensated summation for 10^8:\",compensated_Sum(8))\n",
    "end_time = time.time()\n",
    "elapsed_time = end_time - start_time\n",
    "print(elapsed_time)"
   ]
  },
  {
   "cell_type": "code",
   "execution_count": 58,
   "metadata": {},
   "outputs": [
    {
     "name": "stdout",
     "output_type": "stream",
     "text": [
      "Compensated summation for 10^9: 2718281828.459045\n",
      "130.74090909957886\n"
     ]
    }
   ],
   "source": [
    "start_time = time.time()\n",
    "print(\"Compensated summation for 10^9:\",compensated_Sum(9))\n",
    "end_time = time.time()\n",
    "elapsed_time = end_time - start_time\n",
    "print(elapsed_time)"
   ]
  },
  {
   "cell_type": "code",
   "execution_count": 59,
   "metadata": {},
   "outputs": [
    {
     "name": "stdout",
     "output_type": "stream",
     "text": [
      "Exact value of 10^6: 2718281.828459045\n",
      "Absolute error 8.930917829275131e-06\n",
      "relative error 3.2855010601818064e-12\n"
     ]
    }
   ],
   "source": [
    "# Absolute error (naive) 10^6\n",
    "\n",
    "# Exact values for 10^6\n",
    "exact = (math.pow(10,6) * math.e)\n",
    "print(\"Exact value of 10^6:\",exact)\n",
    "absolute_error = abs(naive_Sum(6) - exact)\n",
    "print(\"Absolute error\",absolute_error)\n",
    "relative_error = absolute_error/exact\n",
    "print(\"relative error\",relative_error)"
   ]
  },
  {
   "cell_type": "code",
   "execution_count": 60,
   "metadata": {},
   "outputs": [
    {
     "name": "stdout",
     "output_type": "stream",
     "text": [
      "Exact value of 10^6: 2718281.828459045\n",
      "Absolute error 0.0\n",
      "relative error 0.0\n"
     ]
    }
   ],
   "source": [
    "# Absolute error (compensated) 10^6\n",
    "\n",
    "# Exact values for 10^6\n",
    "exact = (math.pow(10,6) * math.e)\n",
    "print(\"Exact value of 10^6:\",exact)\n",
    "absolute_error = abs(compensated_Sum(6) - exact)\n",
    "print(\"Absolute error\",absolute_error)\n",
    "relative_error = absolute_error/exact\n",
    "print(\"relative error\",relative_error)"
   ]
  },
  {
   "cell_type": "code",
   "execution_count": 61,
   "metadata": {},
   "outputs": [
    {
     "name": "stdout",
     "output_type": "stream",
     "text": [
      "Exact value of 10^7: 27182818.28459045\n",
      "Absolute error 0.0036293119192123413\n",
      "relative error 1.335149240676691e-10\n"
     ]
    }
   ],
   "source": [
    "# Absolute error (naive) 10^7\n",
    "\n",
    "# Exact values for 10^7\n",
    "exact = (math.pow(10,7) * math.e)\n",
    "print(\"Exact value of 10^7:\",exact)\n",
    "absolute_error = abs(naive_Sum(7) - exact)\n",
    "print(\"Absolute error\",absolute_error)\n",
    "relative_error = absolute_error/exact\n",
    "print(\"relative error\",relative_error)"
   ]
  },
  {
   "cell_type": "code",
   "execution_count": 62,
   "metadata": {},
   "outputs": [
    {
     "name": "stdout",
     "output_type": "stream",
     "text": [
      "Exact value of 10^7: 27182818.28459045\n",
      "Absolute error 0.0\n",
      "relative error 0.0\n"
     ]
    }
   ],
   "source": [
    "# Absolute error (compensated) 10^7\n",
    "\n",
    "# Exact values for 10^7\n",
    "exact = (math.pow(10,7) * math.e)\n",
    "print(\"Exact value of 10^7:\",exact)\n",
    "absolute_error = abs(compensated_Sum(7) - exact)\n",
    "print(\"Absolute error\",absolute_error)\n",
    "relative_error = absolute_error/exact\n",
    "print(\"relative error\",relative_error)"
   ]
  },
  {
   "cell_type": "code",
   "execution_count": 63,
   "metadata": {},
   "outputs": [
    {
     "name": "stdout",
     "output_type": "stream",
     "text": [
      "Exact value of 10^8: 271828182.8459045\n",
      "Absolute error 0.467011034488678\n",
      "relative error 1.7180375838859204e-09\n"
     ]
    }
   ],
   "source": [
    "# Absolute error (naive) 10^8\n",
    "\n",
    "# Exact values for 10^8\n",
    "exact = (math.pow(10,8) * math.e)\n",
    "print(\"Exact value of 10^8:\",exact)\n",
    "absolute_error = abs(naive_Sum(8) - exact)\n",
    "print(\"Absolute error\",absolute_error)\n",
    "relative_error = absolute_error/exact\n",
    "print(\"relative error\",relative_error)"
   ]
  },
  {
   "cell_type": "code",
   "execution_count": 64,
   "metadata": {},
   "outputs": [
    {
     "name": "stdout",
     "output_type": "stream",
     "text": [
      "Exact value of 10^8: 271828182.8459045\n",
      "Absolute error 0.0\n",
      "relative error 0.0\n"
     ]
    }
   ],
   "source": [
    "# Absolute error (compensated) 10^8\n",
    "\n",
    "# Exact values for 10^8\n",
    "exact = (math.pow(10,8) * math.e)\n",
    "print(\"Exact value of 10^8:\",exact)\n",
    "absolute_error = abs(compensated_Sum(8) - exact)\n",
    "print(\"Absolute error\",absolute_error)\n",
    "relative_error = absolute_error/exact\n",
    "print(\"relative error\",relative_error)"
   ]
  },
  {
   "cell_type": "code",
   "execution_count": 65,
   "metadata": {},
   "outputs": [
    {
     "name": "stdout",
     "output_type": "stream",
     "text": [
      "Exact value of 10^9: 2718281828.459045\n",
      "Absolute error 44.470587730407715\n",
      "relative error 1.6359814962827992e-08\n"
     ]
    }
   ],
   "source": [
    "# Absolute error (naive) 10^9\n",
    "\n",
    "# Exact values for 10^9\n",
    "exact = (math.pow(10,9) * math.e)\n",
    "print(\"Exact value of 10^9:\",exact)\n",
    "absolute_error = abs(naive_Sum(9) - exact)\n",
    "print(\"Absolute error\",absolute_error)\n",
    "relative_error = absolute_error/exact\n",
    "print(\"relative error\",relative_error)"
   ]
  },
  {
   "cell_type": "code",
   "execution_count": 66,
   "metadata": {},
   "outputs": [
    {
     "name": "stdout",
     "output_type": "stream",
     "text": [
      "Exact value of 10^9: 2718281828.459045\n",
      "Absolute error 0.0\n",
      "relative error 0.0\n"
     ]
    }
   ],
   "source": [
    "# Absolute error (compensated) 10^9\n",
    "\n",
    "# Exact values for 10^9\n",
    "exact = (math.pow(10,9) * math.e)\n",
    "print(\"Exact value of 10^9:\",exact)\n",
    "absolute_error = abs(compensated_Sum(9) - exact)\n",
    "print(\"Absolute error\",absolute_error)\n",
    "relative_error = absolute_error/exact\n",
    "print(\"relative error\",relative_error)"
   ]
  },
  {
   "cell_type": "markdown",
   "metadata": {},
   "source": [
    "My results\n",
    "\n",
    "It turns out that for both Naive and compensated summation, that the more numbers you sum up the longer the run time. I was kinda suprise by the elapsed time difference between summing up e 10^6 vs 10^9 times, there was a whole 75 second differance for Naive summation. i also noticed that their were some differances in elapsed time between naive and compensated summation, In all the cases compensated summation took longer, however i was not suprised by this finding because the approximation of compensated summation was exact to the exanct value. so basically a sacrifice in time for accuracy.\n",
    "In conclusion Naive summation was indeed faster than compensated summation, but less accurate since their were some absolute and relative errors. "
   ]
  }
 ],
 "metadata": {
  "kernelspec": {
   "display_name": "Python 3",
   "language": "python",
   "name": "python3"
  },
  "language_info": {
   "codemirror_mode": {
    "name": "ipython",
    "version": 3
   },
   "file_extension": ".py",
   "mimetype": "text/x-python",
   "name": "python",
   "nbconvert_exporter": "python",
   "pygments_lexer": "ipython3",
   "version": "3.7.1"
  }
 },
 "nbformat": 4,
 "nbformat_minor": 2
}
